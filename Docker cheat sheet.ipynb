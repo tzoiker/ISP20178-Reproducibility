{
 "cells": [
  {
   "cell_type": "markdown",
   "metadata": {},
   "source": [
    "# <font color=MIDNIGHTBLUE>Docker cheat sheet</font>"
   ]
  },
  {
   "cell_type": "markdown",
   "metadata": {},
   "source": [
    "# <font color=salmon>Dockerfile</font>"
   ]
  },
  {
   "cell_type": "markdown",
   "metadata": {},
   "source": [
    "<font size=3 color=MIDNIGHTBLUE>\n",
    "There is a couple of things to keep in mind:\n",
    "<ul>\n",
    "<li>You would like to first include things that are least prone to change, i.e. order layers from the less frequently changed to the more frequently changed!</li>\n",
    "<li>Do not forget to use <code><font size=4 color=MIDNIGHTBLUE>.dockerignore</font></code> to keep away irrelevant or sensitive (tokens, passwords, etc) information.</li>\n",
    "</ul>\n",
    "</font>"
   ]
  },
  {
   "cell_type": "markdown",
   "metadata": {},
   "source": [
    "<code><font size=4 color=salmon>\n",
    "<p style=\"text-align:left;\">\n",
    "FROM<font color=MIDNIGHTBLUE> base_image</font>  <span style=\"float:right;\"><font color=TEAL># specify base image to start with</font></span>\n",
    "ENV<font color=MIDNIGHTBLUE> LANG=ru_RU.UTF-8 LANGUAGE=en_US.UTF-8</font>  <span style=\"float:right;\"><font color=TEAL># set environment variables</font></span>\n",
    "WORKDIR<font color=MIDNIGHTBLUE> /workspace</font>  <span style=\"float:right;\"><font color=TEAL># set the working directory</font></span>\n",
    "RUN<font color=MIDNIGHTBLUE> pip install -r requirements.txt</font>  <span style=\"float:right;\"><font color=TEAL># run instructions and commit results to the image</font></span>\n",
    "ADD<font color=MIDNIGHTBLUE> . /workspace</font>  <span style=\"float:right;\"><font color=TEAL># copy files into the image</font></span>\n",
    "VOLUME<font color=MIDNIGHTBLUE> /data</font> <span style=\"float:right;\"><font color=TEAL># specify which mount point should be used for external volumes to mount</font></span>\n",
    "EXPOSE<font color=MIDNIGHTBLUE> 8888</font>  <span style=\"float:right;\"><font color=TEAL># specify which port should be published</font></span>\n",
    "CMD<font color=MIDNIGHTBLUE> run.sh</font>  <span style=\"float:right;\"><font color=TEAL># execute something</font></span></p></font></code>"
   ]
  },
  {
   "cell_type": "markdown",
   "metadata": {},
   "source": [
    "# <font color=TEAL>Command line</font>"
   ]
  },
  {
   "cell_type": "markdown",
   "metadata": {},
   "source": [
    "<font size=4><font color=TEAL>In what follows <code><font color=MIDNIGHTBLUE>CONTAINER, IMAGE, REPO, USER</font></code> are all some names/ids of containers, images, repositories and users.</font>\n",
    "<code><font size=4 color=MIDNIGHTBLUE>\n",
    "<p style=\"text-align:left;\">\n",
    "<font size=5 color=TEAL>General commands:</font>\n",
    "docker images  <span style=\"float:right;\"><font color=TEAL># List images (repository, tags, size)</font></span>\n",
    "docker stats  <span style=\"float:right;\"><font color=TEAL># Display a live stream of container(s) resource usage statistics</font></span>\n",
    "docker ps [<font color=SALMON>-a -q</font>]  <span style=\"float:right;\"> <font color=TEAL># List containers (<font color=SALMON>-a</font> includes stopped, <font color=SALMON>-q</font> shows only IDs)</font></span>\n",
    "\n",
    "<font size=5 color=TEAL>Manipulate images:</font>\n",
    "docker build -t IMAGE:TAG . <span style=\"float:right;\"><font color=TEAL># Create image using this directory's Dockerfile</font></span>\n",
    "docker pull IMAGE:TAG  <span style=\"float:right;\"><font color=TEAL># Pull pre-built image</font></span>\n",
    "\n",
    "<font size=5 color=TEAL>Manipulate containers:</font>\n",
    "docker run <font color=SALMON>-it --rm</font> —name CONTAINER IMAGE  <span style=\"float:right;\"><font color=TEAL># Run a container derived from the image <i>IMAGE</i></font>\n",
    "</span>\n",
    "<span style=\"float:right;\"><font color=TEAL>\\# <font color=SALMON>-it</font> option ensures that whenever you detach from container it keeps on running</font></span>\n",
    "<span style=\"float:right;\"><font color=TEAL>\\# <font color=SALMON>--rm</font> option automatically removes the container when it exits</font></span>\n",
    "docker exec <font color=SALMON>-it</font> CONTAINER <font color=SALMON>/bin/bash</font>  <span style=\"float:right;\"><font color=TEAL># Executes command<font color=SALMON> /bin/bash</font> in the container (reattaching)</font>\n",
    "</span>\n",
    "docker start|stop CONTAINER  <span style=\"float:right;\"><font color=TEAL># Start/stop container</font>\n",
    "</span>\n",
    "docker restart CONTAINER<span style=\"float:right;\"><font color=TEAL># Restart container</font>\n",
    "</span>\n",
    "docker rm CONTAINER<span style=\"float:right;\"><font color=TEAL># Remove container</font>\n",
    "</span>\n",
    "docker pause|unpause CONTAINER<span style=\"float:right;\"><font color=TEAL># Pause/unpause all processes within container</font>\n",
    "</span>\n",
    "docker kill CONTAINER<span style=\"float:right;\"><font color=TEAL># Kill running container</font>\n",
    "</span>\n",
    "\n",
    "<font size=5 color=TEAL>Publish images:</font><font color=MIDNIGHTBLUE>\n",
    "docker login  <span style=\"float:right;\"><font color=TEAL># Login to <a href=https://cloud.docker.com/>Docker Hub</a></font>\n",
    "</span>\n",
    "docker tag IMAGE USER/REPO:TAG  <span style=\"float:right;\"><font color=TEAL># Tag the image</font>\n",
    "</span>\n",
    "docker push USER/REPO:TAG  <span style=\"float:right;\"><font color=TEAL># Push the image to the repository</font>\n",
    "</span></font></p></font>\n",
    "</code></font>"
   ]
  },
  {
   "cell_type": "code",
   "execution_count": null,
   "metadata": {
    "collapsed": true
   },
   "outputs": [],
   "source": []
  }
 ],
 "metadata": {
  "anaconda-cloud": {},
  "kernelspec": {
   "display_name": "Python [conda env:py35]",
   "language": "python",
   "name": "conda-env-py35-py"
  },
  "language_info": {
   "codemirror_mode": {
    "name": "ipython",
    "version": 3
   },
   "file_extension": ".py",
   "mimetype": "text/x-python",
   "name": "python",
   "nbconvert_exporter": "python",
   "pygments_lexer": "ipython3",
   "version": "3.5.4"
  }
 },
 "nbformat": 4,
 "nbformat_minor": 2
}
