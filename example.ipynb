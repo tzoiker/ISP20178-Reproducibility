{
 "cells": [
  {
   "cell_type": "code",
   "execution_count": null,
   "metadata": {
    "collapsed": false
   },
   "outputs": [],
   "source": [
    "import numpy as np\n",
    "import sklearn\n",
    "import matplotlib.pyplot as plt\n",
    "import pickle\n",
    "from sklearn.kernel_ridge import KernelRidge\n",
    "import os"
   ]
  },
  {
   "cell_type": "code",
   "execution_count": null,
   "metadata": {
    "collapsed": false
   },
   "outputs": [],
   "source": [
    "t = np.linspace(0, 2*np.pi, 100)\n",
    "y = np.sin(t)\n",
    "y_noisy = y + (np.random.rand(t.shape[0]) - 0.5)"
   ]
  },
  {
   "cell_type": "code",
   "execution_count": null,
   "metadata": {
    "collapsed": false
   },
   "outputs": [],
   "source": [
    "plt.plot(t, y, '-')\n",
    "plt.plot(t, y_noisy, '.')\n",
    "plt.show()"
   ]
  },
  {
   "cell_type": "code",
   "execution_count": null,
   "metadata": {
    "collapsed": false
   },
   "outputs": [],
   "source": [
    "try: os.mkdir('data')\n",
    "except OSError: pass\n",
    "with open('data/data.pickle', 'wb') as fout:\n",
    "    pickle.dump(obj=(t, y, y_noisy), file=fout)"
   ]
  },
  {
   "cell_type": "code",
   "execution_count": null,
   "metadata": {
    "collapsed": false
   },
   "outputs": [],
   "source": [
    "kr1 = KernelRidge(kernel='linear')\n",
    "kr2 = KernelRidge(kernel='rbf')"
   ]
  },
  {
   "cell_type": "code",
   "execution_count": null,
   "metadata": {
    "collapsed": false
   },
   "outputs": [],
   "source": [
    "kr1.fit(np.expand_dims(t,1), np.expand_dims(y_noisy,1))\n",
    "y1 = kr1.predict(np.expand_dims(t,1)).flatten()\n",
    "kr2.fit(np.expand_dims(t,1), np.expand_dims(y_noisy,1))\n",
    "y2 = kr2.predict(np.expand_dims(t,1)).flatten()"
   ]
  },
  {
   "cell_type": "code",
   "execution_count": null,
   "metadata": {
    "collapsed": false
   },
   "outputs": [],
   "source": [
    "plt.figure()\n",
    "plt.plot(t, y, '-', label='true')\n",
    "plt.plot(t, y_noisy, '.', label='noisy')\n",
    "plt.plot(t, y1, '-', label='linear')\n",
    "plt.plot(t, y2, '-', label='rbf')\n",
    "plt.title('Regression')\n",
    "plt.legend()\n",
    "plt.savefig('latex/figs/plot.png')"
   ]
  }
 ],
 "metadata": {
  "anaconda-cloud": {},
  "kernelspec": {
   "display_name": "Python [conda env:py3]",
   "language": "python",
   "name": "conda-env-py3-py"
  },
  "language_info": {
   "codemirror_mode": {
    "name": "ipython",
    "version": 3
   },
   "file_extension": ".py",
   "mimetype": "text/x-python",
   "name": "python",
   "nbconvert_exporter": "python",
   "pygments_lexer": "ipython3",
   "version": "3.6.4"
  }
 },
 "nbformat": 4,
 "nbformat_minor": 1
}
